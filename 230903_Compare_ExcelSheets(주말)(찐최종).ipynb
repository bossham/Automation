{
  "nbformat": 4,
  "nbformat_minor": 0,
  "metadata": {
    "colab": {
      "provenance": [],
      "collapsed_sections": [
        "dP0EbczYyy8a"
      ],
      "authorship_tag": "ABX9TyPZM9bthjwVhCKTsY3hrAZa",
      "include_colab_link": true
    },
    "kernelspec": {
      "name": "python3",
      "display_name": "Python 3"
    },
    "language_info": {
      "name": "python"
    }
  },
  "cells": [
    {
      "cell_type": "markdown",
      "metadata": {
        "id": "view-in-github",
        "colab_type": "text"
      },
      "source": [
        "<a href=\"https://colab.research.google.com/github/bossham/Automation/blob/main/230903_Compare_ExcelSheets(%EC%A3%BC%EB%A7%90)(%EC%B0%90%EC%B5%9C%EC%A2%85).ipynb\" target=\"_parent\"><img src=\"https://colab.research.google.com/assets/colab-badge.svg\" alt=\"Open In Colab\"/></a>"
      ]
    },
    {
      "cell_type": "markdown",
      "source": [
        "❗ **사용 방법**\n",
        "1. 왼쪽에 파일 클릭 -> 오른쪽 마우스 클릭(업로드)\n",
        "- 링크 파일 업로드(영문)\n",
        "- 3번 파일 업로드(한글)\n",
        "2. 2번 셀의 file1_path, file2_path, df_new의 sheet_name 변경\n",
        "- 왼쪽에 업로드한 파일 오른쪽 마우스 클릭(경로복사) -> 붙여넣기 후 제목 외 삭제\n",
        "- sheet_name은 .xlsx 제외한 한글명만 복붙\n",
        "3. 제일 마지막 셀의 excel_path = \"인구 (명)_updated.xlsx\"  # 이름 변경\n",
        "- 본인 3번 파일명으로 이름 변경\n",
        "\n",
        "실행 방법: 런타임 -> 모두 실행 -> 왼쪽 파일에서 새로고침 -> 업데이트된 파일 다운로드 -> 런타임 다시 시작 후 사용 방법 1번부터 다른 파일 진행\n"
      ],
      "metadata": {
        "id": "lvuOQ7vdIQz-"
      }
    },
    {
      "cell_type": "code",
      "source": [
        "import pandas as pd\n",
        "import openpyxl\n",
        "from IPython.core.display import display, HTML\n",
        "from openpyxl.styles import PatternFill"
      ],
      "metadata": {
        "id": "xCVgmg1UqcXC"
      },
      "execution_count": null,
      "outputs": []
    },
    {
      "cell_type": "code",
      "execution_count": null,
      "metadata": {
        "colab": {
          "base_uri": "https://localhost:8080/"
        },
        "id": "UpoA6zJ4mydW",
        "outputId": "2c9f91ca-83bb-4149-af69-9689fd27b3c7"
      },
      "outputs": [
        {
          "output_type": "stream",
          "name": "stderr",
          "text": [
            "/usr/local/lib/python3.10/dist-packages/openpyxl/styles/stylesheet.py:226: UserWarning: Workbook contains no default style, apply openpyxl's default\n",
            "  warn(\"Workbook contains no default style, apply openpyxl's default\")\n"
          ]
        }
      ],
      "source": [
        "# 파일 경로 설정\n",
        "file1_path = 'Imports of goods and services (% of GDP).xls'\n",
        "file2_path = '재화 및 용역 수입 (%, GDP 대비).xlsx'\n",
        "\n",
        "# 엑셀 파일 불러오기\n",
        "df_old = pd.read_excel(file1_path, sheet_name='Data', dtype=str)\n",
        "df_new = pd.read_excel(file2_path, sheet_name='재화 및 용역 수입 (%, GDP 대비)', dtype=str)"
      ]
    },
    {
      "cell_type": "code",
      "source": [
        "df_old.head()"
      ],
      "metadata": {
        "colab": {
          "base_uri": "https://localhost:8080/",
          "height": 516
        },
        "id": "mumC16Z9r9dc",
        "outputId": "d6de7a68-a14e-4e5d-d642-9d83c42a19f5"
      },
      "execution_count": null,
      "outputs": [
        {
          "output_type": "execute_result",
          "data": {
            "text/plain": [
              "                   Data Source World Development Indicators  \\\n",
              "0            Last Updated Date          2023-07-25 00:00:00   \n",
              "1                          NaN                          NaN   \n",
              "2                 Country Name                 Country Code   \n",
              "3                        Aruba                          ABW   \n",
              "4  Africa Eastern and Southern                          AFE   \n",
              "\n",
              "                                 Unnamed: 2      Unnamed: 3 Unnamed: 4  \\\n",
              "0                                       NaN             NaN        NaN   \n",
              "1                                       NaN             NaN        NaN   \n",
              "2                            Indicator Name  Indicator Code       1960   \n",
              "3  Imports of goods and services (% of GDP)  NE.IMP.GNFS.ZS        NaN   \n",
              "4  Imports of goods and services (% of GDP)  NE.IMP.GNFS.ZS        NaN   \n",
              "\n",
              "  Unnamed: 5 Unnamed: 6 Unnamed: 7 Unnamed: 8 Unnamed: 9  ...  \\\n",
              "0        NaN        NaN        NaN        NaN        NaN  ...   \n",
              "1        NaN        NaN        NaN        NaN        NaN  ...   \n",
              "2       1961       1962       1963       1964       1965  ...   \n",
              "3        NaN        NaN        NaN        NaN        NaN  ...   \n",
              "4        NaN        NaN        NaN        NaN        NaN  ...   \n",
              "\n",
              "          Unnamed: 57         Unnamed: 58        Unnamed: 59  \\\n",
              "0                 NaN                 NaN                NaN   \n",
              "1                 NaN                 NaN                NaN   \n",
              "2                2013                2014               2015   \n",
              "3   85.34036453000205   84.60014011208966   72.9753016591252   \n",
              "4  33.751472579757696  32.513387834276294  30.21370262977081   \n",
              "\n",
              "          Unnamed: 60         Unnamed: 61         Unnamed: 62  \\\n",
              "0                 NaN                 NaN                 NaN   \n",
              "1                 NaN                 NaN                 NaN   \n",
              "2                2016                2017                2018   \n",
              "3   70.41546526867629   71.26137308039748   72.96063553905819   \n",
              "4  27.248678060659554  26.242349368260488  28.699466728504703   \n",
              "\n",
              "          Unnamed: 63         Unnamed: 64        Unnamed: 65  \\\n",
              "0                 NaN                 NaN                NaN   \n",
              "1                 NaN                 NaN                NaN   \n",
              "2                2019                2020               2021   \n",
              "3   72.10913731430158   64.92777981843504  68.25140767042213   \n",
              "4  27.000821176827728  23.855002708316103  25.84662637650909   \n",
              "\n",
              "         Unnamed: 66  \n",
              "0                NaN  \n",
              "1                NaN  \n",
              "2               2022  \n",
              "3                NaN  \n",
              "4  28.74919179763511  \n",
              "\n",
              "[5 rows x 67 columns]"
            ],
            "text/html": [
              "\n",
              "  <div id=\"df-0f98c559-3c69-483b-8a6b-0b87f8a40e07\" class=\"colab-df-container\">\n",
              "    <div>\n",
              "<style scoped>\n",
              "    .dataframe tbody tr th:only-of-type {\n",
              "        vertical-align: middle;\n",
              "    }\n",
              "\n",
              "    .dataframe tbody tr th {\n",
              "        vertical-align: top;\n",
              "    }\n",
              "\n",
              "    .dataframe thead th {\n",
              "        text-align: right;\n",
              "    }\n",
              "</style>\n",
              "<table border=\"1\" class=\"dataframe\">\n",
              "  <thead>\n",
              "    <tr style=\"text-align: right;\">\n",
              "      <th></th>\n",
              "      <th>Data Source</th>\n",
              "      <th>World Development Indicators</th>\n",
              "      <th>Unnamed: 2</th>\n",
              "      <th>Unnamed: 3</th>\n",
              "      <th>Unnamed: 4</th>\n",
              "      <th>Unnamed: 5</th>\n",
              "      <th>Unnamed: 6</th>\n",
              "      <th>Unnamed: 7</th>\n",
              "      <th>Unnamed: 8</th>\n",
              "      <th>Unnamed: 9</th>\n",
              "      <th>...</th>\n",
              "      <th>Unnamed: 57</th>\n",
              "      <th>Unnamed: 58</th>\n",
              "      <th>Unnamed: 59</th>\n",
              "      <th>Unnamed: 60</th>\n",
              "      <th>Unnamed: 61</th>\n",
              "      <th>Unnamed: 62</th>\n",
              "      <th>Unnamed: 63</th>\n",
              "      <th>Unnamed: 64</th>\n",
              "      <th>Unnamed: 65</th>\n",
              "      <th>Unnamed: 66</th>\n",
              "    </tr>\n",
              "  </thead>\n",
              "  <tbody>\n",
              "    <tr>\n",
              "      <th>0</th>\n",
              "      <td>Last Updated Date</td>\n",
              "      <td>2023-07-25 00:00:00</td>\n",
              "      <td>NaN</td>\n",
              "      <td>NaN</td>\n",
              "      <td>NaN</td>\n",
              "      <td>NaN</td>\n",
              "      <td>NaN</td>\n",
              "      <td>NaN</td>\n",
              "      <td>NaN</td>\n",
              "      <td>NaN</td>\n",
              "      <td>...</td>\n",
              "      <td>NaN</td>\n",
              "      <td>NaN</td>\n",
              "      <td>NaN</td>\n",
              "      <td>NaN</td>\n",
              "      <td>NaN</td>\n",
              "      <td>NaN</td>\n",
              "      <td>NaN</td>\n",
              "      <td>NaN</td>\n",
              "      <td>NaN</td>\n",
              "      <td>NaN</td>\n",
              "    </tr>\n",
              "    <tr>\n",
              "      <th>1</th>\n",
              "      <td>NaN</td>\n",
              "      <td>NaN</td>\n",
              "      <td>NaN</td>\n",
              "      <td>NaN</td>\n",
              "      <td>NaN</td>\n",
              "      <td>NaN</td>\n",
              "      <td>NaN</td>\n",
              "      <td>NaN</td>\n",
              "      <td>NaN</td>\n",
              "      <td>NaN</td>\n",
              "      <td>...</td>\n",
              "      <td>NaN</td>\n",
              "      <td>NaN</td>\n",
              "      <td>NaN</td>\n",
              "      <td>NaN</td>\n",
              "      <td>NaN</td>\n",
              "      <td>NaN</td>\n",
              "      <td>NaN</td>\n",
              "      <td>NaN</td>\n",
              "      <td>NaN</td>\n",
              "      <td>NaN</td>\n",
              "    </tr>\n",
              "    <tr>\n",
              "      <th>2</th>\n",
              "      <td>Country Name</td>\n",
              "      <td>Country Code</td>\n",
              "      <td>Indicator Name</td>\n",
              "      <td>Indicator Code</td>\n",
              "      <td>1960</td>\n",
              "      <td>1961</td>\n",
              "      <td>1962</td>\n",
              "      <td>1963</td>\n",
              "      <td>1964</td>\n",
              "      <td>1965</td>\n",
              "      <td>...</td>\n",
              "      <td>2013</td>\n",
              "      <td>2014</td>\n",
              "      <td>2015</td>\n",
              "      <td>2016</td>\n",
              "      <td>2017</td>\n",
              "      <td>2018</td>\n",
              "      <td>2019</td>\n",
              "      <td>2020</td>\n",
              "      <td>2021</td>\n",
              "      <td>2022</td>\n",
              "    </tr>\n",
              "    <tr>\n",
              "      <th>3</th>\n",
              "      <td>Aruba</td>\n",
              "      <td>ABW</td>\n",
              "      <td>Imports of goods and services (% of GDP)</td>\n",
              "      <td>NE.IMP.GNFS.ZS</td>\n",
              "      <td>NaN</td>\n",
              "      <td>NaN</td>\n",
              "      <td>NaN</td>\n",
              "      <td>NaN</td>\n",
              "      <td>NaN</td>\n",
              "      <td>NaN</td>\n",
              "      <td>...</td>\n",
              "      <td>85.34036453000205</td>\n",
              "      <td>84.60014011208966</td>\n",
              "      <td>72.9753016591252</td>\n",
              "      <td>70.41546526867629</td>\n",
              "      <td>71.26137308039748</td>\n",
              "      <td>72.96063553905819</td>\n",
              "      <td>72.10913731430158</td>\n",
              "      <td>64.92777981843504</td>\n",
              "      <td>68.25140767042213</td>\n",
              "      <td>NaN</td>\n",
              "    </tr>\n",
              "    <tr>\n",
              "      <th>4</th>\n",
              "      <td>Africa Eastern and Southern</td>\n",
              "      <td>AFE</td>\n",
              "      <td>Imports of goods and services (% of GDP)</td>\n",
              "      <td>NE.IMP.GNFS.ZS</td>\n",
              "      <td>NaN</td>\n",
              "      <td>NaN</td>\n",
              "      <td>NaN</td>\n",
              "      <td>NaN</td>\n",
              "      <td>NaN</td>\n",
              "      <td>NaN</td>\n",
              "      <td>...</td>\n",
              "      <td>33.751472579757696</td>\n",
              "      <td>32.513387834276294</td>\n",
              "      <td>30.21370262977081</td>\n",
              "      <td>27.248678060659554</td>\n",
              "      <td>26.242349368260488</td>\n",
              "      <td>28.699466728504703</td>\n",
              "      <td>27.000821176827728</td>\n",
              "      <td>23.855002708316103</td>\n",
              "      <td>25.84662637650909</td>\n",
              "      <td>28.74919179763511</td>\n",
              "    </tr>\n",
              "  </tbody>\n",
              "</table>\n",
              "<p>5 rows × 67 columns</p>\n",
              "</div>\n",
              "    <div class=\"colab-df-buttons\">\n",
              "\n",
              "  <div class=\"colab-df-container\">\n",
              "    <button class=\"colab-df-convert\" onclick=\"convertToInteractive('df-0f98c559-3c69-483b-8a6b-0b87f8a40e07')\"\n",
              "            title=\"Convert this dataframe to an interactive table.\"\n",
              "            style=\"display:none;\">\n",
              "\n",
              "  <svg xmlns=\"http://www.w3.org/2000/svg\" height=\"24px\" viewBox=\"0 -960 960 960\">\n",
              "    <path d=\"M120-120v-720h720v720H120Zm60-500h600v-160H180v160Zm220 220h160v-160H400v160Zm0 220h160v-160H400v160ZM180-400h160v-160H180v160Zm440 0h160v-160H620v160ZM180-180h160v-160H180v160Zm440 0h160v-160H620v160Z\"/>\n",
              "  </svg>\n",
              "    </button>\n",
              "\n",
              "  <style>\n",
              "    .colab-df-container {\n",
              "      display:flex;\n",
              "      gap: 12px;\n",
              "    }\n",
              "\n",
              "    .colab-df-convert {\n",
              "      background-color: #E8F0FE;\n",
              "      border: none;\n",
              "      border-radius: 50%;\n",
              "      cursor: pointer;\n",
              "      display: none;\n",
              "      fill: #1967D2;\n",
              "      height: 32px;\n",
              "      padding: 0 0 0 0;\n",
              "      width: 32px;\n",
              "    }\n",
              "\n",
              "    .colab-df-convert:hover {\n",
              "      background-color: #E2EBFA;\n",
              "      box-shadow: 0px 1px 2px rgba(60, 64, 67, 0.3), 0px 1px 3px 1px rgba(60, 64, 67, 0.15);\n",
              "      fill: #174EA6;\n",
              "    }\n",
              "\n",
              "    .colab-df-buttons div {\n",
              "      margin-bottom: 4px;\n",
              "    }\n",
              "\n",
              "    [theme=dark] .colab-df-convert {\n",
              "      background-color: #3B4455;\n",
              "      fill: #D2E3FC;\n",
              "    }\n",
              "\n",
              "    [theme=dark] .colab-df-convert:hover {\n",
              "      background-color: #434B5C;\n",
              "      box-shadow: 0px 1px 3px 1px rgba(0, 0, 0, 0.15);\n",
              "      filter: drop-shadow(0px 1px 2px rgba(0, 0, 0, 0.3));\n",
              "      fill: #FFFFFF;\n",
              "    }\n",
              "  </style>\n",
              "\n",
              "    <script>\n",
              "      const buttonEl =\n",
              "        document.querySelector('#df-0f98c559-3c69-483b-8a6b-0b87f8a40e07 button.colab-df-convert');\n",
              "      buttonEl.style.display =\n",
              "        google.colab.kernel.accessAllowed ? 'block' : 'none';\n",
              "\n",
              "      async function convertToInteractive(key) {\n",
              "        const element = document.querySelector('#df-0f98c559-3c69-483b-8a6b-0b87f8a40e07');\n",
              "        const dataTable =\n",
              "          await google.colab.kernel.invokeFunction('convertToInteractive',\n",
              "                                                    [key], {});\n",
              "        if (!dataTable) return;\n",
              "\n",
              "        const docLinkHtml = 'Like what you see? Visit the ' +\n",
              "          '<a target=\"_blank\" href=https://colab.research.google.com/notebooks/data_table.ipynb>data table notebook</a>'\n",
              "          + ' to learn more about interactive tables.';\n",
              "        element.innerHTML = '';\n",
              "        dataTable['output_type'] = 'display_data';\n",
              "        await google.colab.output.renderOutput(dataTable, element);\n",
              "        const docLink = document.createElement('div');\n",
              "        docLink.innerHTML = docLinkHtml;\n",
              "        element.appendChild(docLink);\n",
              "      }\n",
              "    </script>\n",
              "  </div>\n",
              "\n",
              "\n",
              "<div id=\"df-d8b43cb5-b835-49af-b939-9d942b2d3a71\">\n",
              "  <button class=\"colab-df-quickchart\" onclick=\"quickchart('df-d8b43cb5-b835-49af-b939-9d942b2d3a71')\"\n",
              "            title=\"Suggest charts.\"\n",
              "            style=\"display:none;\">\n",
              "\n",
              "<svg xmlns=\"http://www.w3.org/2000/svg\" height=\"24px\"viewBox=\"0 0 24 24\"\n",
              "     width=\"24px\">\n",
              "    <g>\n",
              "        <path d=\"M19 3H5c-1.1 0-2 .9-2 2v14c0 1.1.9 2 2 2h14c1.1 0 2-.9 2-2V5c0-1.1-.9-2-2-2zM9 17H7v-7h2v7zm4 0h-2V7h2v10zm4 0h-2v-4h2v4z\"/>\n",
              "    </g>\n",
              "</svg>\n",
              "  </button>\n",
              "\n",
              "<style>\n",
              "  .colab-df-quickchart {\n",
              "    background-color: #E8F0FE;\n",
              "    border: none;\n",
              "    border-radius: 50%;\n",
              "    cursor: pointer;\n",
              "    display: none;\n",
              "    fill: #1967D2;\n",
              "    height: 32px;\n",
              "    padding: 0 0 0 0;\n",
              "    width: 32px;\n",
              "  }\n",
              "\n",
              "  .colab-df-quickchart:hover {\n",
              "    background-color: #E2EBFA;\n",
              "    box-shadow: 0px 1px 2px rgba(60, 64, 67, 0.3), 0px 1px 3px 1px rgba(60, 64, 67, 0.15);\n",
              "    fill: #174EA6;\n",
              "  }\n",
              "\n",
              "  [theme=dark] .colab-df-quickchart {\n",
              "    background-color: #3B4455;\n",
              "    fill: #D2E3FC;\n",
              "  }\n",
              "\n",
              "  [theme=dark] .colab-df-quickchart:hover {\n",
              "    background-color: #434B5C;\n",
              "    box-shadow: 0px 1px 3px 1px rgba(0, 0, 0, 0.15);\n",
              "    filter: drop-shadow(0px 1px 2px rgba(0, 0, 0, 0.3));\n",
              "    fill: #FFFFFF;\n",
              "  }\n",
              "</style>\n",
              "\n",
              "  <script>\n",
              "    async function quickchart(key) {\n",
              "      const charts = await google.colab.kernel.invokeFunction(\n",
              "          'suggestCharts', [key], {});\n",
              "    }\n",
              "    (() => {\n",
              "      let quickchartButtonEl =\n",
              "        document.querySelector('#df-d8b43cb5-b835-49af-b939-9d942b2d3a71 button');\n",
              "      quickchartButtonEl.style.display =\n",
              "        google.colab.kernel.accessAllowed ? 'block' : 'none';\n",
              "    })();\n",
              "  </script>\n",
              "</div>\n",
              "    </div>\n",
              "  </div>\n"
            ]
          },
          "metadata": {},
          "execution_count": 3
        }
      ]
    },
    {
      "cell_type": "code",
      "source": [
        "df_new.head()"
      ],
      "metadata": {
        "colab": {
          "base_uri": "https://localhost:8080/",
          "height": 325
        },
        "id": "PU4_PxVysBnM",
        "outputId": "1e71f284-c3b7-40cf-c0db-27a1051c309b"
      },
      "execution_count": null,
      "outputs": [
        {
          "output_type": "execute_result",
          "data": {
            "text/plain": [
              "  국가코드3자리\\n*[Country] Sheet 참조               1960               1961  \\\n",
              "0                          ABW                NaN                NaN   \n",
              "1                          AFG  7.024793366231815  8.097166298414983   \n",
              "2                          AGO                NaN                NaN   \n",
              "3                          ALB                NaN                NaN   \n",
              "4                          ARE                NaN                NaN   \n",
              "\n",
              "                1962                1963                1964  \\\n",
              "0                NaN                 NaN                 NaN   \n",
              "1  9.349593305902575  16.863910334021387  18.055555385802478   \n",
              "2                NaN                 NaN                 NaN   \n",
              "3                NaN                 NaN                 NaN   \n",
              "4                NaN                 NaN                 NaN   \n",
              "\n",
              "                1965                1966                1967  \\\n",
              "0                NaN                 NaN                 NaN   \n",
              "1  21.41280348425264  18.571428537414963  14.209827038547907   \n",
              "2                NaN                 NaN                 NaN   \n",
              "3                NaN                 NaN                 NaN   \n",
              "4                NaN                 NaN                 NaN   \n",
              "\n",
              "                 1968  ...                2007               2008  \\\n",
              "0                 NaN  ...   76.45039785200373  74.92661492193268   \n",
              "1  15.210356426933098  ...  58.350046825502176  55.07254555387484   \n",
              "2                 NaN  ...   43.51562639845877  51.22655143216674   \n",
              "3                 NaN  ...   54.78820068167622  56.43714441967392   \n",
              "4                 NaN  ...   64.41405536546252  69.64565532418271   \n",
              "\n",
              "                2009               2010               2011  \\\n",
              "0  76.27657838317585  74.81634251639618  86.43635475412813   \n",
              "1  42.19922847470395  44.94347834551659   44.1939480697298   \n",
              "2  55.40868389084399  42.94996785427942  42.16296196622979   \n",
              "3  53.75869561760527  53.02454351132213   56.7491781199186   \n",
              "4  73.80862649618656  79.03289118201596   81.6310987510199   \n",
              "\n",
              "                 2012                2013                2014  \\\n",
              "0                 NaN                 NaN                 NaN   \n",
              "1  39.142397437554365  49.757774903610375   45.77387714404156   \n",
              "2  39.739432524101325   39.38000879208381   42.21153252834049   \n",
              "3   51.98686782766612   53.48055179982264  47.224797560415986   \n",
              "4   85.31346036828326   85.22885424179734   89.02284619460545   \n",
              "\n",
              "                 2015                2016  \n",
              "0                 NaN                 NaN  \n",
              "1    48.8016150277632   49.02497728811768  \n",
              "2   36.14288110801146   32.67696088297748  \n",
              "3  44.520189637457754  45.580111161083636  \n",
              "4   96.02390908825801  101.43979838497441  \n",
              "\n",
              "[5 rows x 58 columns]"
            ],
            "text/html": [
              "\n",
              "  <div id=\"df-98e409a3-03bd-43cd-a1c6-224ea5111ebd\" class=\"colab-df-container\">\n",
              "    <div>\n",
              "<style scoped>\n",
              "    .dataframe tbody tr th:only-of-type {\n",
              "        vertical-align: middle;\n",
              "    }\n",
              "\n",
              "    .dataframe tbody tr th {\n",
              "        vertical-align: top;\n",
              "    }\n",
              "\n",
              "    .dataframe thead th {\n",
              "        text-align: right;\n",
              "    }\n",
              "</style>\n",
              "<table border=\"1\" class=\"dataframe\">\n",
              "  <thead>\n",
              "    <tr style=\"text-align: right;\">\n",
              "      <th></th>\n",
              "      <th>국가코드3자리\\n*[Country] Sheet 참조</th>\n",
              "      <th>1960</th>\n",
              "      <th>1961</th>\n",
              "      <th>1962</th>\n",
              "      <th>1963</th>\n",
              "      <th>1964</th>\n",
              "      <th>1965</th>\n",
              "      <th>1966</th>\n",
              "      <th>1967</th>\n",
              "      <th>1968</th>\n",
              "      <th>...</th>\n",
              "      <th>2007</th>\n",
              "      <th>2008</th>\n",
              "      <th>2009</th>\n",
              "      <th>2010</th>\n",
              "      <th>2011</th>\n",
              "      <th>2012</th>\n",
              "      <th>2013</th>\n",
              "      <th>2014</th>\n",
              "      <th>2015</th>\n",
              "      <th>2016</th>\n",
              "    </tr>\n",
              "  </thead>\n",
              "  <tbody>\n",
              "    <tr>\n",
              "      <th>0</th>\n",
              "      <td>ABW</td>\n",
              "      <td>NaN</td>\n",
              "      <td>NaN</td>\n",
              "      <td>NaN</td>\n",
              "      <td>NaN</td>\n",
              "      <td>NaN</td>\n",
              "      <td>NaN</td>\n",
              "      <td>NaN</td>\n",
              "      <td>NaN</td>\n",
              "      <td>NaN</td>\n",
              "      <td>...</td>\n",
              "      <td>76.45039785200373</td>\n",
              "      <td>74.92661492193268</td>\n",
              "      <td>76.27657838317585</td>\n",
              "      <td>74.81634251639618</td>\n",
              "      <td>86.43635475412813</td>\n",
              "      <td>NaN</td>\n",
              "      <td>NaN</td>\n",
              "      <td>NaN</td>\n",
              "      <td>NaN</td>\n",
              "      <td>NaN</td>\n",
              "    </tr>\n",
              "    <tr>\n",
              "      <th>1</th>\n",
              "      <td>AFG</td>\n",
              "      <td>7.024793366231815</td>\n",
              "      <td>8.097166298414983</td>\n",
              "      <td>9.349593305902575</td>\n",
              "      <td>16.863910334021387</td>\n",
              "      <td>18.055555385802478</td>\n",
              "      <td>21.41280348425264</td>\n",
              "      <td>18.571428537414963</td>\n",
              "      <td>14.209827038547907</td>\n",
              "      <td>15.210356426933098</td>\n",
              "      <td>...</td>\n",
              "      <td>58.350046825502176</td>\n",
              "      <td>55.07254555387484</td>\n",
              "      <td>42.19922847470395</td>\n",
              "      <td>44.94347834551659</td>\n",
              "      <td>44.1939480697298</td>\n",
              "      <td>39.142397437554365</td>\n",
              "      <td>49.757774903610375</td>\n",
              "      <td>45.77387714404156</td>\n",
              "      <td>48.8016150277632</td>\n",
              "      <td>49.02497728811768</td>\n",
              "    </tr>\n",
              "    <tr>\n",
              "      <th>2</th>\n",
              "      <td>AGO</td>\n",
              "      <td>NaN</td>\n",
              "      <td>NaN</td>\n",
              "      <td>NaN</td>\n",
              "      <td>NaN</td>\n",
              "      <td>NaN</td>\n",
              "      <td>NaN</td>\n",
              "      <td>NaN</td>\n",
              "      <td>NaN</td>\n",
              "      <td>NaN</td>\n",
              "      <td>...</td>\n",
              "      <td>43.51562639845877</td>\n",
              "      <td>51.22655143216674</td>\n",
              "      <td>55.40868389084399</td>\n",
              "      <td>42.94996785427942</td>\n",
              "      <td>42.16296196622979</td>\n",
              "      <td>39.739432524101325</td>\n",
              "      <td>39.38000879208381</td>\n",
              "      <td>42.21153252834049</td>\n",
              "      <td>36.14288110801146</td>\n",
              "      <td>32.67696088297748</td>\n",
              "    </tr>\n",
              "    <tr>\n",
              "      <th>3</th>\n",
              "      <td>ALB</td>\n",
              "      <td>NaN</td>\n",
              "      <td>NaN</td>\n",
              "      <td>NaN</td>\n",
              "      <td>NaN</td>\n",
              "      <td>NaN</td>\n",
              "      <td>NaN</td>\n",
              "      <td>NaN</td>\n",
              "      <td>NaN</td>\n",
              "      <td>NaN</td>\n",
              "      <td>...</td>\n",
              "      <td>54.78820068167622</td>\n",
              "      <td>56.43714441967392</td>\n",
              "      <td>53.75869561760527</td>\n",
              "      <td>53.02454351132213</td>\n",
              "      <td>56.7491781199186</td>\n",
              "      <td>51.98686782766612</td>\n",
              "      <td>53.48055179982264</td>\n",
              "      <td>47.224797560415986</td>\n",
              "      <td>44.520189637457754</td>\n",
              "      <td>45.580111161083636</td>\n",
              "    </tr>\n",
              "    <tr>\n",
              "      <th>4</th>\n",
              "      <td>ARE</td>\n",
              "      <td>NaN</td>\n",
              "      <td>NaN</td>\n",
              "      <td>NaN</td>\n",
              "      <td>NaN</td>\n",
              "      <td>NaN</td>\n",
              "      <td>NaN</td>\n",
              "      <td>NaN</td>\n",
              "      <td>NaN</td>\n",
              "      <td>NaN</td>\n",
              "      <td>...</td>\n",
              "      <td>64.41405536546252</td>\n",
              "      <td>69.64565532418271</td>\n",
              "      <td>73.80862649618656</td>\n",
              "      <td>79.03289118201596</td>\n",
              "      <td>81.6310987510199</td>\n",
              "      <td>85.31346036828326</td>\n",
              "      <td>85.22885424179734</td>\n",
              "      <td>89.02284619460545</td>\n",
              "      <td>96.02390908825801</td>\n",
              "      <td>101.43979838497441</td>\n",
              "    </tr>\n",
              "  </tbody>\n",
              "</table>\n",
              "<p>5 rows × 58 columns</p>\n",
              "</div>\n",
              "    <div class=\"colab-df-buttons\">\n",
              "\n",
              "  <div class=\"colab-df-container\">\n",
              "    <button class=\"colab-df-convert\" onclick=\"convertToInteractive('df-98e409a3-03bd-43cd-a1c6-224ea5111ebd')\"\n",
              "            title=\"Convert this dataframe to an interactive table.\"\n",
              "            style=\"display:none;\">\n",
              "\n",
              "  <svg xmlns=\"http://www.w3.org/2000/svg\" height=\"24px\" viewBox=\"0 -960 960 960\">\n",
              "    <path d=\"M120-120v-720h720v720H120Zm60-500h600v-160H180v160Zm220 220h160v-160H400v160Zm0 220h160v-160H400v160ZM180-400h160v-160H180v160Zm440 0h160v-160H620v160ZM180-180h160v-160H180v160Zm440 0h160v-160H620v160Z\"/>\n",
              "  </svg>\n",
              "    </button>\n",
              "\n",
              "  <style>\n",
              "    .colab-df-container {\n",
              "      display:flex;\n",
              "      gap: 12px;\n",
              "    }\n",
              "\n",
              "    .colab-df-convert {\n",
              "      background-color: #E8F0FE;\n",
              "      border: none;\n",
              "      border-radius: 50%;\n",
              "      cursor: pointer;\n",
              "      display: none;\n",
              "      fill: #1967D2;\n",
              "      height: 32px;\n",
              "      padding: 0 0 0 0;\n",
              "      width: 32px;\n",
              "    }\n",
              "\n",
              "    .colab-df-convert:hover {\n",
              "      background-color: #E2EBFA;\n",
              "      box-shadow: 0px 1px 2px rgba(60, 64, 67, 0.3), 0px 1px 3px 1px rgba(60, 64, 67, 0.15);\n",
              "      fill: #174EA6;\n",
              "    }\n",
              "\n",
              "    .colab-df-buttons div {\n",
              "      margin-bottom: 4px;\n",
              "    }\n",
              "\n",
              "    [theme=dark] .colab-df-convert {\n",
              "      background-color: #3B4455;\n",
              "      fill: #D2E3FC;\n",
              "    }\n",
              "\n",
              "    [theme=dark] .colab-df-convert:hover {\n",
              "      background-color: #434B5C;\n",
              "      box-shadow: 0px 1px 3px 1px rgba(0, 0, 0, 0.15);\n",
              "      filter: drop-shadow(0px 1px 2px rgba(0, 0, 0, 0.3));\n",
              "      fill: #FFFFFF;\n",
              "    }\n",
              "  </style>\n",
              "\n",
              "    <script>\n",
              "      const buttonEl =\n",
              "        document.querySelector('#df-98e409a3-03bd-43cd-a1c6-224ea5111ebd button.colab-df-convert');\n",
              "      buttonEl.style.display =\n",
              "        google.colab.kernel.accessAllowed ? 'block' : 'none';\n",
              "\n",
              "      async function convertToInteractive(key) {\n",
              "        const element = document.querySelector('#df-98e409a3-03bd-43cd-a1c6-224ea5111ebd');\n",
              "        const dataTable =\n",
              "          await google.colab.kernel.invokeFunction('convertToInteractive',\n",
              "                                                    [key], {});\n",
              "        if (!dataTable) return;\n",
              "\n",
              "        const docLinkHtml = 'Like what you see? Visit the ' +\n",
              "          '<a target=\"_blank\" href=https://colab.research.google.com/notebooks/data_table.ipynb>data table notebook</a>'\n",
              "          + ' to learn more about interactive tables.';\n",
              "        element.innerHTML = '';\n",
              "        dataTable['output_type'] = 'display_data';\n",
              "        await google.colab.output.renderOutput(dataTable, element);\n",
              "        const docLink = document.createElement('div');\n",
              "        docLink.innerHTML = docLinkHtml;\n",
              "        element.appendChild(docLink);\n",
              "      }\n",
              "    </script>\n",
              "  </div>\n",
              "\n",
              "\n",
              "<div id=\"df-85acf8b7-d120-4941-a14e-d4824ae0b2ab\">\n",
              "  <button class=\"colab-df-quickchart\" onclick=\"quickchart('df-85acf8b7-d120-4941-a14e-d4824ae0b2ab')\"\n",
              "            title=\"Suggest charts.\"\n",
              "            style=\"display:none;\">\n",
              "\n",
              "<svg xmlns=\"http://www.w3.org/2000/svg\" height=\"24px\"viewBox=\"0 0 24 24\"\n",
              "     width=\"24px\">\n",
              "    <g>\n",
              "        <path d=\"M19 3H5c-1.1 0-2 .9-2 2v14c0 1.1.9 2 2 2h14c1.1 0 2-.9 2-2V5c0-1.1-.9-2-2-2zM9 17H7v-7h2v7zm4 0h-2V7h2v10zm4 0h-2v-4h2v4z\"/>\n",
              "    </g>\n",
              "</svg>\n",
              "  </button>\n",
              "\n",
              "<style>\n",
              "  .colab-df-quickchart {\n",
              "    background-color: #E8F0FE;\n",
              "    border: none;\n",
              "    border-radius: 50%;\n",
              "    cursor: pointer;\n",
              "    display: none;\n",
              "    fill: #1967D2;\n",
              "    height: 32px;\n",
              "    padding: 0 0 0 0;\n",
              "    width: 32px;\n",
              "  }\n",
              "\n",
              "  .colab-df-quickchart:hover {\n",
              "    background-color: #E2EBFA;\n",
              "    box-shadow: 0px 1px 2px rgba(60, 64, 67, 0.3), 0px 1px 3px 1px rgba(60, 64, 67, 0.15);\n",
              "    fill: #174EA6;\n",
              "  }\n",
              "\n",
              "  [theme=dark] .colab-df-quickchart {\n",
              "    background-color: #3B4455;\n",
              "    fill: #D2E3FC;\n",
              "  }\n",
              "\n",
              "  [theme=dark] .colab-df-quickchart:hover {\n",
              "    background-color: #434B5C;\n",
              "    box-shadow: 0px 1px 3px 1px rgba(0, 0, 0, 0.15);\n",
              "    filter: drop-shadow(0px 1px 2px rgba(0, 0, 0, 0.3));\n",
              "    fill: #FFFFFF;\n",
              "  }\n",
              "</style>\n",
              "\n",
              "  <script>\n",
              "    async function quickchart(key) {\n",
              "      const charts = await google.colab.kernel.invokeFunction(\n",
              "          'suggestCharts', [key], {});\n",
              "    }\n",
              "    (() => {\n",
              "      let quickchartButtonEl =\n",
              "        document.querySelector('#df-85acf8b7-d120-4941-a14e-d4824ae0b2ab button');\n",
              "      quickchartButtonEl.style.display =\n",
              "        google.colab.kernel.accessAllowed ? 'block' : 'none';\n",
              "    })();\n",
              "  </script>\n",
              "</div>\n",
              "    </div>\n",
              "  </div>\n"
            ]
          },
          "metadata": {},
          "execution_count": 4
        }
      ]
    },
    {
      "cell_type": "markdown",
      "source": [
        "## 데이터 양식 전처리"
      ],
      "metadata": {
        "id": "9YGca709stRU"
      }
    },
    {
      "cell_type": "code",
      "source": [
        "# 2번째 행을 열 이름으로 설정하고, 불필요한 행 삭제\n",
        "new_columns = df_old.iloc[2]\n",
        "df_old = df_old[3:]  # 3번째 행부터의 데이터 선택\n",
        "df_old.columns = new_columns  # 2번째 행을 열 이름으로 설정\n",
        "df_old.reset_index(drop=True, inplace=True)  # 인덱스 재설정"
      ],
      "metadata": {
        "id": "sChDJ2WQsC-J"
      },
      "execution_count": null,
      "outputs": []
    },
    {
      "cell_type": "code",
      "source": [
        "# 삭제할 열 이름 리스트\n",
        "columns_to_delete = ['Country Name', 'Indicator Name', 'Indicator Code']\n",
        "# 열 삭제\n",
        "df_old.drop(columns=columns_to_delete, inplace=True)"
      ],
      "metadata": {
        "colab": {
          "base_uri": "https://localhost:8080/"
        },
        "id": "nqV6cdmJs5YD",
        "outputId": "2c84265f-b388-4e39-8294-e4dc0e307069"
      },
      "execution_count": null,
      "outputs": [
        {
          "output_type": "stream",
          "name": "stderr",
          "text": [
            "<ipython-input-6-4b3cc86d35a9>:4: SettingWithCopyWarning: \n",
            "A value is trying to be set on a copy of a slice from a DataFrame\n",
            "\n",
            "See the caveats in the documentation: https://pandas.pydata.org/pandas-docs/stable/user_guide/indexing.html#returning-a-view-versus-a-copy\n",
            "  df_old.drop(columns=columns_to_delete, inplace=True)\n"
          ]
        }
      ]
    },
    {
      "cell_type": "code",
      "source": [
        "# 첫 번째 열 이름 변경\n",
        "df_old.columns.values[0] = '국가코드3자리'\n",
        "df_new.columns.values[0] = '국가코드3자리'"
      ],
      "metadata": {
        "id": "FQU1ji_eteLz"
      },
      "execution_count": null,
      "outputs": []
    },
    {
      "cell_type": "code",
      "source": [
        "df_old.keys()"
      ],
      "metadata": {
        "colab": {
          "base_uri": "https://localhost:8080/"
        },
        "id": "mXNsyWhHhFDO",
        "outputId": "7049aadf-50ff-448e-92f3-1cc949b93543"
      },
      "execution_count": null,
      "outputs": [
        {
          "output_type": "execute_result",
          "data": {
            "text/plain": [
              "Index(['국가코드3자리', '1960', '1961', '1962', '1963', '1964', '1965', '1966',\n",
              "       '1967', '1968', '1969', '1970', '1971', '1972', '1973', '1974', '1975',\n",
              "       '1976', '1977', '1978', '1979', '1980', '1981', '1982', '1983', '1984',\n",
              "       '1985', '1986', '1987', '1988', '1989', '1990', '1991', '1992', '1993',\n",
              "       '1994', '1995', '1996', '1997', '1998', '1999', '2000', '2001', '2002',\n",
              "       '2003', '2004', '2005', '2006', '2007', '2008', '2009', '2010', '2011',\n",
              "       '2012', '2013', '2014', '2015', '2016', '2017', '2018', '2019', '2020',\n",
              "       '2021', '2022'],\n",
              "      dtype='object', name=2)"
            ]
          },
          "metadata": {},
          "execution_count": 8
        }
      ]
    },
    {
      "cell_type": "code",
      "source": [
        "df_new.keys()"
      ],
      "metadata": {
        "colab": {
          "base_uri": "https://localhost:8080/"
        },
        "id": "7jEFYQ_Zabuy",
        "outputId": "3df5b117-56c7-48ab-f86c-1826435d8180"
      },
      "execution_count": null,
      "outputs": [
        {
          "output_type": "execute_result",
          "data": {
            "text/plain": [
              "Index(['국가코드3자리', '1960', '1961', '1962', '1963', '1964', '1965', '1966',\n",
              "       '1967', '1968', '1969', '1970', '1971', '1972', '1973', '1974', '1975',\n",
              "       '1976', '1977', '1978', '1979', '1980', '1981', '1982', '1983', '1984',\n",
              "       '1985', '1986', '1987', '1988', '1989', '1990', '1991', '1992', '1993',\n",
              "       '1994', '1995', '1996', '1997', '1998', '1999', '2000', '2001', '2002',\n",
              "       '2003', '2004', '2005', '2006', '2007', '2008', '2009', '2010', '2011',\n",
              "       '2012', '2013', '2014', '2015', '2016'],\n",
              "      dtype='object')"
            ]
          },
          "metadata": {},
          "execution_count": 9
        }
      ]
    },
    {
      "cell_type": "code",
      "source": [
        "# 기준이 될 년도 범위\n",
        "years = range(1960, 2023)\n",
        "\n",
        "# df_new의 열에 맞추어 열 추가\n",
        "for year in years:\n",
        "    if str(year) not in df_new.columns:\n",
        "        df_new[str(year)] = None\n",
        "\n",
        "# 열 순서 재정렬\n",
        "df_new = df_new[['국가코드3자리'] + [str(year) for year in years]]"
      ],
      "metadata": {
        "id": "5eoB4mDAvoWr"
      },
      "execution_count": null,
      "outputs": []
    },
    {
      "cell_type": "code",
      "source": [
        "# 열 이름을 문자열로 변환\n",
        "df_old.columns = df_old.columns.astype(str)\n",
        "df_new.columns = df_new.columns.astype(str)\n",
        "\n",
        "# '국가코드3자리' 열을 제외한 나머지 열의 데이터 타입을 df_old와 동일하게 설정\n",
        "columns_to_convert = df_old.columns[1:].tolist()\n",
        "df_new[columns_to_convert] = df_new[columns_to_convert].astype(df_old[columns_to_convert].dtypes.to_dict())"
      ],
      "metadata": {
        "id": "o8icocSXr5wo"
      },
      "execution_count": null,
      "outputs": []
    },
    {
      "cell_type": "code",
      "source": [
        "# 두 파일의 열이 동일한지 확인\n",
        "print('df_old: ', df_old.shape)\n",
        "print('df_old의 columns: ', df_old.columns)\n",
        "print('\\n','df_new: ', df_new.shape)\n",
        "print('df_new의 columns: ', df_new.columns)"
      ],
      "metadata": {
        "colab": {
          "base_uri": "https://localhost:8080/"
        },
        "id": "aH4arsWGtHcn",
        "outputId": "df017f15-d65c-4887-866b-fe8082353f04"
      },
      "execution_count": null,
      "outputs": [
        {
          "output_type": "stream",
          "name": "stdout",
          "text": [
            "df_old:  (266, 64)\n",
            "df_old의 columns:  Index(['국가코드3자리', '1960', '1961', '1962', '1963', '1964', '1965', '1966',\n",
            "       '1967', '1968', '1969', '1970', '1971', '1972', '1973', '1974', '1975',\n",
            "       '1976', '1977', '1978', '1979', '1980', '1981', '1982', '1983', '1984',\n",
            "       '1985', '1986', '1987', '1988', '1989', '1990', '1991', '1992', '1993',\n",
            "       '1994', '1995', '1996', '1997', '1998', '1999', '2000', '2001', '2002',\n",
            "       '2003', '2004', '2005', '2006', '2007', '2008', '2009', '2010', '2011',\n",
            "       '2012', '2013', '2014', '2015', '2016', '2017', '2018', '2019', '2020',\n",
            "       '2021', '2022'],\n",
            "      dtype='object', name=2)\n",
            "\n",
            " df_new:  (198, 64)\n",
            "df_new의 columns:  Index(['국가코드3자리', '1960', '1961', '1962', '1963', '1964', '1965', '1966',\n",
            "       '1967', '1968', '1969', '1970', '1971', '1972', '1973', '1974', '1975',\n",
            "       '1976', '1977', '1978', '1979', '1980', '1981', '1982', '1983', '1984',\n",
            "       '1985', '1986', '1987', '1988', '1989', '1990', '1991', '1992', '1993',\n",
            "       '1994', '1995', '1996', '1997', '1998', '1999', '2000', '2001', '2002',\n",
            "       '2003', '2004', '2005', '2006', '2007', '2008', '2009', '2010', '2011',\n",
            "       '2012', '2013', '2014', '2015', '2016', '2017', '2018', '2019', '2020',\n",
            "       '2021', '2022'],\n",
            "      dtype='object')\n"
          ]
        }
      ]
    },
    {
      "cell_type": "markdown",
      "source": [
        "## 데이터 비교"
      ],
      "metadata": {
        "id": "iQH1uHe-ygYu"
      }
    },
    {
      "cell_type": "markdown",
      "source": [
        "### 누락된 국가 조회"
      ],
      "metadata": {
        "id": "-r4TzbiC8MmM"
      }
    },
    {
      "cell_type": "code",
      "source": [
        "country_dropped = set(df_old['국가코드3자리']) - set(df_new['국가코드3자리'])\n",
        "\n",
        "# 결과 출력\n",
        "print('삭제된 아이템 개수:', len(country_dropped))\n",
        "print('\\n''삭제된 아이템 (알파벳 순):')\n",
        "for item in sorted(country_dropped):\n",
        "    print(item)"
      ],
      "metadata": {
        "colab": {
          "base_uri": "https://localhost:8080/"
        },
        "id": "fk_99lwVyhsm",
        "outputId": "4f284106-a2ea-4451-999e-758e249701ec"
      },
      "execution_count": null,
      "outputs": [
        {
          "output_type": "stream",
          "name": "stdout",
          "text": [
            "삭제된 아이템 개수: 68\n",
            "\n",
            "삭제된 아이템 (알파벳 순):\n",
            "AFE\n",
            "AFW\n",
            "AND\n",
            "ARB\n",
            "CEB\n",
            "CHI\n",
            "CSS\n",
            "CUW\n",
            "CYM\n",
            "EAP\n",
            "EAR\n",
            "EAS\n",
            "ECA\n",
            "ECS\n",
            "EMU\n",
            "EUU\n",
            "FCS\n",
            "GIB\n",
            "HIC\n",
            "HPC\n",
            "IBD\n",
            "IBT\n",
            "IDA\n",
            "IDB\n",
            "IDX\n",
            "IMN\n",
            "INX\n",
            "LAC\n",
            "LCN\n",
            "LDC\n",
            "LIC\n",
            "LIE\n",
            "LMC\n",
            "LMY\n",
            "LTE\n",
            "MAF\n",
            "MCO\n",
            "MEA\n",
            "MHL\n",
            "MIC\n",
            "MNA\n",
            "NAC\n",
            "NRU\n",
            "OED\n",
            "OSS\n",
            "PRE\n",
            "PRK\n",
            "PSS\n",
            "PST\n",
            "SAS\n",
            "SMR\n",
            "SSA\n",
            "SSF\n",
            "SST\n",
            "STP\n",
            "SXM\n",
            "TCA\n",
            "TEA\n",
            "TEC\n",
            "TLA\n",
            "TMN\n",
            "TSA\n",
            "TSS\n",
            "TUV\n",
            "UMC\n",
            "VGB\n",
            "WLD\n",
            "XKX\n"
          ]
        }
      ]
    },
    {
      "cell_type": "markdown",
      "source": [
        "### 사라진 국가 조회 후 삭제"
      ],
      "metadata": {
        "id": "Tp0mq-uCGRbD"
      }
    },
    {
      "cell_type": "code",
      "source": [
        "# df_old에는 없는 행이 df_new에 있는 경우를 찾아서 삭제\n",
        "rows_to_drop = df_new[~df_new[\"국가코드3자리\"].isin(df_old[\"국가코드3자리\"])]\n",
        "\n",
        "# rows_to_drop에 해당하는 행 삭제\n",
        "if not rows_to_drop.empty:\n",
        "    df_new = df_new[~df_new[\"국가코드3자리\"].isin(rows_to_drop[\"국가코드3자리\"])]"
      ],
      "metadata": {
        "id": "hY2jHl1VHs-q"
      },
      "execution_count": null,
      "outputs": []
    },
    {
      "cell_type": "markdown",
      "source": [
        "### 두 엑셀 데이터 비교"
      ],
      "metadata": {
        "id": "Lr7UemQ78Vs3"
      }
    },
    {
      "cell_type": "markdown",
      "source": [
        "1. df_old에는 있지만 df_new에는 없는 '국가코드3자리'와 그에 해당하는 값이 들어있는 행을 df_new에 추가\n",
        "2. 1을 만족하는 df_new를 '국가코드3자리'열의 알파벳순으로 정렬\n",
        "3. df_old와 df_new의 같은 위치에서 df_old가 null이고 df_new에 값이 있으면 df_new 값을 수정하지 않고 보존\n",
        "4. df_old와 df_new의 같은 위치에서 df_new가 null이고 df_old에 값이 있으면 df_new 값을 df_old 값으로 수정\n",
        "5. df_old와 df_new의 같은 위치에 있는 데이터 값이 같으면 df_new 값 수정하지 않고 보존\n",
        "6. df_old와 df_new의 같은 위치에 있는 데이터 값이 다르면 df_new 값을 df_old 값으로 수정"
      ],
      "metadata": {
        "id": "SarBqL0M4ioj"
      }
    },
    {
      "cell_type": "code",
      "source": [
        "'''색 입혀지지 않은 업데이트만 진행된 df_new'''\n",
        "# # 1. df_old에는 있지만 df_new에는 없는 행 찾기\n",
        "# missing_rows = df_old[~df_old[\"국가코드3자리\"].isin(df_new[\"국가코드3자리\"])]\n",
        "\n",
        "# # 2. df_new에 빠진 행 추가 및 정렬\n",
        "# df_new_updated = pd.concat([df_new, missing_rows]).sort_values(by='국가코드3자리')\n",
        "\n",
        "# # 3~6. 조건을 만족하는 데이터프레임 생성\n",
        "# new_values = []\n",
        "# for idx, row_new in df_new_updated.iterrows():\n",
        "#     row_old = df_old[df_old[\"국가코드3자리\"] == row_new[\"국가코드3자리\"]].iloc[0]\n",
        "#     new_row = []\n",
        "#     for col in df_new_updated.columns:\n",
        "#         if pd.isnull(row_old[col]) and pd.notnull(row_new[col]):\n",
        "#             new_row.append(row_new[col])  # Condition 3\n",
        "#         elif pd.isnull(row_new[col]) and pd.notnull(row_old[col]):\n",
        "#             new_row.append(row_old[col])  # Condition 4\n",
        "#         elif row_old[col] == row_new[col]:\n",
        "#             new_row.append(row_new[col])  # Condition 5\n",
        "#         else:\n",
        "#             new_row.append(row_old[col])  # Condition 6\n",
        "#     new_values.append(new_row)\n",
        "\n",
        "# # 새로운 데이터프레임 생성\n",
        "# df_result = pd.DataFrame(new_values, columns=df_new_updated.columns)"
      ],
      "metadata": {
        "id": "j92Fcors4gij",
        "colab": {
          "base_uri": "https://localhost:8080/",
          "height": 35
        },
        "outputId": "fecb81af-84ae-48d6-b062-f22965d46c72"
      },
      "execution_count": null,
      "outputs": [
        {
          "output_type": "execute_result",
          "data": {
            "text/plain": [
              "'색 입혀지지 않은 업데이트만 진행된 df_new'"
            ],
            "application/vnd.google.colaboratory.intrinsic+json": {
              "type": "string"
            }
          },
          "metadata": {},
          "execution_count": 15
        }
      ]
    },
    {
      "cell_type": "markdown",
      "source": [
        "- 조건 1에 부합하는 부분에 lightgray 배경 색 입히기\n",
        "- 조건 4와 6에 부합하는 부분에 lightblue 배경 색 입히기\n",
        "- 배경 색 입혀진 데이터프레임 엑셀로 추출"
      ],
      "metadata": {
        "id": "TjaNeMQn5J-M"
      }
    },
    {
      "cell_type": "code",
      "source": [
        "'''엑셀 추출 전 style 적용'''\n",
        "# # 1. df_old에는 있지만 df_new에는 없는 행 찾기\n",
        "# missing_rows = df_old[~df_old[\"국가코드3자리\"].isin(df_new[\"국가코드3자리\"])]\n",
        "\n",
        "# # df_new에 빠진 행 추가\n",
        "# df_new_updated = pd.concat([df_new, missing_rows], ignore_index=True)\n",
        "\n",
        "# # 2. df_new_updated 정렬\n",
        "# df_new_sorted = df_new_updated.sort_values(by='국가코드3자리')\n",
        "\n",
        "# # 3~6. 스타일 적용을 위한 함수 정의\n",
        "# def apply_styles(row):\n",
        "#     styles = [\"\"] * len(row)\n",
        "#     country_code = row[\"국가코드3자리\"]\n",
        "\n",
        "#     if country_code in missing_rows[\"국가코드3자리\"].values:\n",
        "#         styles = [\"background-color: lightgray\"] * len(row)\n",
        "#     else:\n",
        "#         old_row = df_old[df_old[\"국가코드3자리\"] == country_code].iloc[0]\n",
        "#         for idx, col in enumerate(df_new_sorted.columns[1:]):  # Exclude '국가코드3자리' column\n",
        "#             old_val = old_row[col]\n",
        "#             new_val = row[col]\n",
        "\n",
        "#             if pd.isnull(old_val):\n",
        "#                 if pd.notnull(new_val):\n",
        "#                     row[col] = new_val  # Condition 3: df_old가 null이고 df_new에 값이 있으면 df_new 값 보존\n",
        "#             elif pd.isnull(new_val):\n",
        "#                 row[col] = old_val  # Condition 4: df_new가 null이고 df_old에 값이 있으면 df_old 값으로 수정\n",
        "#                 styles[idx + 1] = \"background-color: lightblue\"\n",
        "#             elif old_val != new_val:\n",
        "#                 row[col] = old_val  # Condition 6: df_old와 df_new의 값이 다르면 df_old 값으로 수정\n",
        "#                 styles[idx + 1] = \"background-color: lightblue\"\n",
        "\n",
        "#     return styles\n",
        "\n",
        "# # 스타일 적용\n",
        "# styled_df_new_sorted = df_new_sorted.style.apply(apply_styles, axis=1)\n",
        "\n",
        "# display(styled_df_new_sorted)"
      ],
      "metadata": {
        "colab": {
          "base_uri": "https://localhost:8080/",
          "height": 35
        },
        "id": "EExU7N0n82bY",
        "outputId": "bebc5ee0-5a35-43d4-e3e3-05360a1b6231"
      },
      "execution_count": null,
      "outputs": [
        {
          "output_type": "execute_result",
          "data": {
            "text/plain": [
              "'엑셀 추출 전 style 적용'"
            ],
            "application/vnd.google.colaboratory.intrinsic+json": {
              "type": "string"
            }
          },
          "metadata": {},
          "execution_count": 16
        }
      ]
    },
    {
      "cell_type": "markdown",
      "source": [
        "## 엑셀로 추출"
      ],
      "metadata": {
        "id": "vveDbs0zpLd8"
      }
    },
    {
      "cell_type": "code",
      "source": [
        "# 1. df_old에는 있지만 df_new에는 없는 행 찾기\n",
        "missing_rows = df_old[~df_old[\"국가코드3자리\"].isin(df_new[\"국가코드3자리\"])]\n",
        "\n",
        "# df_new에 빠진 행 추가\n",
        "df_new_updated = pd.concat([df_new, missing_rows], ignore_index=True)\n",
        "\n",
        "# 2. df_new_updated 정렬\n",
        "df_new_sorted = df_new_updated.sort_values(by='국가코드3자리')\n",
        "\n",
        "# 3~6. 스타일 적용을 위한 함수 정의\n",
        "def apply_styles(row):\n",
        "    styles = [\"\"] * len(row)\n",
        "    country_code = row[\"국가코드3자리\"]\n",
        "\n",
        "    if country_code in missing_rows[\"국가코드3자리\"].values:\n",
        "        styles = [\"background-color: lightgray\"] * len(row)\n",
        "    else:\n",
        "        old_row = df_old[df_old[\"국가코드3자리\"] == country_code].iloc[0]\n",
        "        for idx, col in enumerate(df_new_sorted.columns[1:]):  # Exclude '국가코드3자리' column\n",
        "            old_val = old_row[col]\n",
        "            new_val = row[col]\n",
        "\n",
        "            if pd.isnull(old_val):\n",
        "                if pd.notnull(new_val):\n",
        "                    row[col] = new_val  # Condition 3: df_old가 null이고 df_new에 값이 있으면 df_new 값 보존\n",
        "            elif pd.isnull(new_val):\n",
        "                row[col] = old_val  # Condition 4: df_new가 null이고 df_old에 값이 있으면 df_old 값으로 수정\n",
        "                styles[idx + 1] = \"background-color: lightblue\"\n",
        "            elif old_val != new_val:\n",
        "                row[col] = old_val  # Condition 6: df_old와 df_new의 값이 다르면 df_old 값으로 수정\n",
        "                styles[idx + 1] = \"background-color: lightblue\"\n",
        "\n",
        "    return styles\n",
        "\n",
        "# 스타일 적용\n",
        "styled_df_new_sorted = df_new_sorted.style.apply(apply_styles, axis=1)\n",
        "\n",
        "# 엑셀로 추출 (스타일이 적용된 상태로 저장됨)\n",
        "excel_path = \"재화 및 용역 수입 (%, GDP 대비)_updated.xlsx\"  # 이름 변경\n",
        "styled_df_new_sorted.to_excel(excel_path, engine='openpyxl', index=False)\n",
        "print(f\"Styled data with style exported to {excel_path}\")"
      ],
      "metadata": {
        "colab": {
          "base_uri": "https://localhost:8080/"
        },
        "id": "UkPwJRiy4WZw",
        "outputId": "1098aa5f-63bb-4ce2-fe4b-f5520da05303"
      },
      "execution_count": null,
      "outputs": [
        {
          "output_type": "stream",
          "name": "stdout",
          "text": [
            "Styled data with style exported to 재화 및 용역 수입 (%, GDP 대비)_updated.xlsx\n"
          ]
        }
      ]
    },
    {
      "cell_type": "markdown",
      "source": [
        "---\n",
        "**END**\n",
        "---"
      ],
      "metadata": {
        "id": "dP0EbczYyy8a"
      }
    },
    {
      "cell_type": "code",
      "source": [
        "'''df_old 열 이름에 소수점 붙어 나오는 경우'''\n",
        "# # 열 이름 리스트\n",
        "# column_names = ['Country Code', 1960.0, 1961.0, 1962.0, 1963.0, 1964.0, 1965.0, 1966.0, 1967.0, 1968.0, 1969.0, 1970.0, 1971.0,\n",
        "#                 1972.0, 1973.0, 1974.0, 1975.0, 1976.0, 1977.0, 1978.0, 1979.0, 1980.0, 1981.0, 1982.0, 1983.0, 1984.0, 1985.0,\n",
        "#                 1986.0, 1987.0, 1988.0, 1989.0, 1990.0, 1991.0, 1992.0, 1993.0, 1994.0, 1995.0, 1996.0, 1997.0, 1998.0, 1999.0,\n",
        "#                 2000.0, 2001.0, 2002.0, 2003.0, 2004.0, 2005.0, 2006.0, 2007.0, 2008.0, 2009.0, 2010.0, 2011.0, 2012.0, 2013.0,\n",
        "#                 2014.0, 2015.0, 2016.0, 2017.0, 2018.0, 2019.0, 2020.0, 2021.0, 2022.0]\n",
        "\n",
        "# # 첫 번째 열 이름 변경\n",
        "# column_names[0] = '국가코드3자리'\n",
        "\n",
        "# # 나머지 열 이름 숫자에서 .0 제거\n",
        "# column_names = [str(int(col)) if isinstance(col, float) else col for col in column_names]\n",
        "# df_old.columns = column_names"
      ],
      "metadata": {
        "id": "1mOPK5BRtKEw",
        "colab": {
          "base_uri": "https://localhost:8080/"
        },
        "outputId": "2db48401-8a75-41ef-af7b-bca2474d3ddd"
      },
      "execution_count": null,
      "outputs": [
        {
          "output_type": "execute_result",
          "data": {
            "text/plain": [
              "'df_old 열 이름에 소수점 붙어 나오는 경우'"
            ],
            "application/vnd.google.colaboratory.intrinsic+json": {
              "type": "string"
            }
          },
          "metadata": {},
          "execution_count": 18
        }
      ]
    },
    {
      "cell_type": "code",
      "source": [
        "'''display로 출력 후 부동소수점 숫자 표현 이슈 제거 전'''\n",
        "# # 1. df_old에는 있지만 df_new에는 없는 행 찾기\n",
        "# missing_rows = df_old[~df_old[\"국가코드3자리\"].isin(df_new[\"국가코드3자리\"])]\n",
        "\n",
        "# # df_new에 빠진 행 추가\n",
        "# df_new_updated = pd.concat([df_new, missing_rows], ignore_index=True)\n",
        "\n",
        "# # 2. df_old와 df_new_updated 정렬\n",
        "# df_new_sorted = df_new_updated.sort_values(by='국가코드3자리')\n",
        "\n",
        "# # 3~6. 스타일 적용을 위한 함수 정의\n",
        "# def apply_styles(row):\n",
        "#     styles = [\"\"] * len(row)\n",
        "#     country_code = row[\"국가코드3자리\"]\n",
        "\n",
        "#     if country_code in missing_rows[\"국가코드3자리\"].values:\n",
        "#         styles = [\"background-color: yellow\"] * len(row)\n",
        "#     else:\n",
        "#         old_row = df_old[df_old[\"국가코드3자리\"] == country_code].iloc[0]\n",
        "#         for idx, col in enumerate(df_new_sorted.columns[1:]):  # Exclude '국가코드3자리' column\n",
        "#             old_val = old_row[col]\n",
        "#             new_val = row[col]\n",
        "\n",
        "#             if pd.isnull(old_val):\n",
        "#                 if pd.notnull(new_val):\n",
        "#                     row[col] = new_val  # Condition 3: df_old가 null이고 df_new에 값이 있으면 df_new 값 보존\n",
        "#             elif pd.isnull(new_val):\n",
        "#                 row[col] = old_val  # Condition 4: df_new가 null이고 df_old에 값이 있으면 df_old 값으로 수정\n",
        "#                 styles[idx + 1] = \"background-color: lightgreen\"\n",
        "#             elif old_val != new_val:\n",
        "#                 row[col] = old_val  # Condition 6: df_old와 df_new의 값이 다르면 df_old 값으로 수정\n",
        "#                 styles[idx + 1] = \"background-color: lightgreen\"\n",
        "\n",
        "#     return styles\n",
        "\n",
        "# # 스타일 적용\n",
        "# styled_df_new_sorted = df_new_sorted.style.apply(apply_styles, axis=1)\n",
        "\n",
        "# # HTML 형식으로 출력\n",
        "# display(HTML(styled_df_new_sorted.render()))"
      ],
      "metadata": {
        "colab": {
          "base_uri": "https://localhost:8080/"
        },
        "id": "gXVTskOiZoYf",
        "outputId": "5bcbb94a-5fa9-4f4a-c66d-a216ae79190a"
      },
      "execution_count": null,
      "outputs": [
        {
          "output_type": "execute_result",
          "data": {
            "text/plain": [
              "'display로 출력 후 부동소수점 숫자 표현 이슈 제거 전'"
            ],
            "application/vnd.google.colaboratory.intrinsic+json": {
              "type": "string"
            }
          },
          "metadata": {},
          "execution_count": 19
        }
      ]
    },
    {
      "cell_type": "code",
      "source": [
        "'''엑셀 추출 전 style 적용'''\n",
        "# # 1. df_old에는 있지만 df_new에는 없는 행 찾기\n",
        "# missing_rows = df_old[~df_old[\"국가코드3자리\"].isin(df_new[\"국가코드3자리\"])]\n",
        "\n",
        "# # df_new에 빠진 행 추가\n",
        "# df_new_updated = pd.concat([df_new, missing_rows], ignore_index=True)\n",
        "\n",
        "# # 2. df_new_updated 정렬\n",
        "# df_new_sorted = df_new_updated.sort_values(by='국가코드3자리')\n",
        "\n",
        "# # 3~6. 스타일 적용을 위한 함수 정의\n",
        "# def apply_styles(row):\n",
        "#     styles = [\"\"] * len(row)\n",
        "#     country_code = row[\"국가코드3자리\"]\n",
        "\n",
        "#     if country_code in missing_rows[\"국가코드3자리\"].values:\n",
        "#         styles = [\"background-color: yellow\"] * len(row)\n",
        "#     else:\n",
        "#         old_row = df_old[df_old[\"국가코드3자리\"] == country_code].iloc[0]\n",
        "#         for idx, col in enumerate(df_new_sorted.columns[1:]):  # Exclude '국가코드3자리' column\n",
        "#             old_val = old_row[col]\n",
        "#             new_val = row[col]\n",
        "\n",
        "#             if pd.isnull(old_val):\n",
        "#                 if pd.notnull(new_val):\n",
        "#                     row[col] = new_val  # Condition 3: df_old가 null이고 df_new에 값이 있으면 df_new 값 보존\n",
        "#             elif pd.isnull(new_val):\n",
        "#                 row[col] = old_val  # Condition 4: df_new가 null이고 df_old에 값이 있으면 df_old 값으로 수정\n",
        "#                 styles[idx + 1] = \"background-color: lightblue\"\n",
        "#             elif old_val != new_val:\n",
        "#                 row[col] = old_val  # Condition 6: df_old와 df_new의 값이 다르면 df_old 값으로 수정\n",
        "#                 styles[idx + 1] = \"background-color: lightblue\"\n",
        "\n",
        "#     return styles\n",
        "\n",
        "# # 스타일 적용\n",
        "# styled_df_new_sorted = df_new_sorted.style.apply(apply_styles, axis=1)\n",
        "\n",
        "# display(styled_df_new_sorted)"
      ],
      "metadata": {
        "id": "Q0yfFJEwbbs-",
        "colab": {
          "base_uri": "https://localhost:8080/"
        },
        "outputId": "fcb7703f-08a7-4980-c6a9-cb28c5bc4959"
      },
      "execution_count": null,
      "outputs": [
        {
          "output_type": "execute_result",
          "data": {
            "text/plain": [
              "'엑셀 추출 전 style 적용'"
            ],
            "application/vnd.google.colaboratory.intrinsic+json": {
              "type": "string"
            }
          },
          "metadata": {},
          "execution_count": 20
        }
      ]
    },
    {
      "cell_type": "code",
      "source": [
        "# import pandas as pd\n",
        "# from openpyxl.styles import PatternFill\n",
        "# import openpyxl\n",
        "\n",
        "# # 1. df_old에는 있지만 df_new에는 없는 행 찾기\n",
        "# missing_rows = df_old[~df_old[\"국가코드3자리\"].isin(df_new[\"국가코드3자리\"])]\n",
        "\n",
        "# # df_new에 빠진 행 추가\n",
        "# df_new_updated = pd.concat([df_new, missing_rows], ignore_index=True)\n",
        "\n",
        "# # 2. df_new_updated 정렬\n",
        "# df_new_sorted = df_new_updated.sort_values(by='국가코드3자리')\n",
        "\n",
        "# # 3~6. 스타일 적용을 위한 함수 정의\n",
        "# def apply_styles(row):\n",
        "#     styles = [\"\"] * len(row)\n",
        "#     country_code = row[\"국가코드3자리\"]\n",
        "\n",
        "#     if country_code in missing_rows[\"국가코드3자리\"].values:\n",
        "#         styles = [\"background-color: yellow\"] * len(row)\n",
        "#     else:\n",
        "#         old_row = df_old[df_old[\"국가코드3자리\"] == country_code].iloc[0]\n",
        "#         for idx, col in enumerate(df_new_sorted.columns[1:]):  # Exclude '국가코드3자리' column\n",
        "#             old_val = old_row[col]\n",
        "#             new_val = row[col]\n",
        "\n",
        "#             if pd.isnull(old_val):\n",
        "#                 if pd.notnull(new_val):\n",
        "#                     row[col] = new_val  # Condition 3: df_old가 null이고 df_new에 값이 있으면 df_new 값 보존\n",
        "#             elif pd.isnull(new_val):\n",
        "#                 row[col] = old_val  # Condition 4: df_new가 null이고 df_old에 값이 있으면 df_old 값으로 수정\n",
        "#                 styles[idx + 1] = \"background-color: lightblue\"\n",
        "#             elif old_val != new_val:\n",
        "#                 row[col] = old_val  # Condition 6: df_old와 df_new의 값이 다르면 df_old 값으로 수정\n",
        "#                 styles[idx + 1] = \"background-color: lightblue\"\n",
        "\n",
        "#     return styles\n",
        "\n",
        "# # 스타일 적용\n",
        "# styled_df_new_sorted = df_new_sorted.style.apply(apply_styles, axis=1)\n",
        "\n",
        "# # 엑셀로 추출\n",
        "# excel_path = \"styled_data.xlsx\"\n",
        "# styled_df_new_sorted.to_excel(excel_path, engine='openpyxl', index=False)\n",
        "\n",
        "# # 저장한 엑셀 파일 열기\n",
        "# wb = openpyxl.load_workbook(excel_path)\n",
        "# ws = wb.active\n",
        "\n",
        "# # 스타일 적용\n",
        "# yellow_fill = PatternFill(start_color=\"FFFF00\", end_color=\"FFFF00\", fill_type=\"solid\")\n",
        "# lightblue_fill = PatternFill(start_color=\"ADD8E6\", end_color=\"ADD8E6\", fill_type=\"solid\")\n",
        "\n",
        "# for row in ws.iter_rows(min_row=2, values_only=True):\n",
        "#     for col_idx, cell in enumerate(row, start=1):\n",
        "#         if isinstance(cell, str) and 'background-color' in cell:\n",
        "#             color = cell.split(\"background-color: \")[1]\n",
        "#             fill = lightblue_fill if color == \"lightblue\" else yellow_fill\n",
        "#             ws.cell(row=row_idx, column=col_idx).fill = fill\n",
        "#             ws.cell(row=row_idx, column=col_idx).value = cell.split(\"'>\")[1].split('</')[0]\n",
        "\n",
        "# # 저장\n",
        "# styled_excel_path = \"styled_data_with_style.xlsx\"\n",
        "# wb.save(styled_excel_path)\n",
        "# print(f\"Styled data with style exported to {styled_excel_path}\")"
      ],
      "metadata": {
        "id": "FXcX8UNh2pjv"
      },
      "execution_count": null,
      "outputs": []
    }
  ]
}